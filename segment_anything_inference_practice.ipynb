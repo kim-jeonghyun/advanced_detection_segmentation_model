{
  "cells": [
    {
      "cell_type": "markdown",
      "metadata": {
        "id": "QeJktan-QO-0"
      },
      "source": [
        "# Segment Anything 추론 예제 코드\n",
        "[![Colab](https://colab.research.google.com/assets/colab-badge.svg)](https://drive.google.com/file/d/1VWB53jTGn50oTTHu3mWkBnDGxpJj8CAA/view?usp=sharing) [![GitHub](https://badges.aleen42.com/src/github.svg)](https://github.com/kim-jeonghyun/advanced_detection_segmentation_model)\n",
        "\n",
        "\n",
        "작성자 : 김정현(kimjeonghyun.jkim@gmail.com)  \n",
        "작성일 : 2023.10.24  \n",
        "참고 : Segment Anything 공식 레포(https://github.com/facebookresearch/segment-anything/blob/main/notebooks/predictor_example.ipynb)  "
      ]
    },
    {
      "cell_type": "code",
      "execution_count": null,
      "metadata": {
        "colab": {
          "base_uri": "https://localhost:8080/"
        },
        "id": "vZ2NrlKUP4g_",
        "outputId": "26c9c0b5-39ba-44c8-a00f-00e8adeaa9de"
      },
      "outputs": [
        {
          "name": "stdout",
          "output_type": "stream",
          "text": [
            "Mounted at /content/drive\n"
          ]
        }
      ],
      "source": [
        "from google.colab import drive\n",
        "drive.mount('/content/drive')"
      ]
    },
    {
      "cell_type": "code",
      "execution_count": null,
      "metadata": {
        "execution": {
          "iopub.execute_input": "2023-04-25T13:25:03.919303Z",
          "iopub.status.busy": "2023-04-25T13:25:03.918525Z",
          "iopub.status.idle": "2023-04-25T13:25:03.924397Z",
          "shell.execute_reply": "2023-04-25T13:25:03.923216Z",
          "shell.execute_reply.started": "2023-04-25T13:25:03.919260Z"
        },
        "id": "1do1FOoAiHwN",
        "trusted": true
      },
      "outputs": [],
      "source": [
        "import requests\n",
        "import zipfile\n",
        "import matplotlib.pyplot as plt\n",
        "import cv2\n",
        "import os\n",
        "import glob"
      ]
    },
    {
      "cell_type": "markdown",
      "metadata": {
        "id": "ixrtXOJbQbLc"
      },
      "source": [
        "## Step 0. Setup 확인"
      ]
    },
    {
      "cell_type": "code",
      "execution_count": null,
      "metadata": {
        "colab": {
          "base_uri": "https://localhost:8080/",
          "height": 35
        },
        "id": "8rwgSj5iP3xs",
        "outputId": "6ab4c4b5-e0e8-43af-ed10-726474052a90"
      },
      "outputs": [
        {
          "data": {
            "application/vnd.google.colaboratory.intrinsic+json": {
              "type": "string"
            },
            "text/plain": [
              "'/content/drive/MyDrive/Colab Notebooks/Segment-Anything-A-Foundation-Model-for-Image-Segmentation'"
            ]
          },
          "execution_count": 5,
          "metadata": {},
          "output_type": "execute_result"
        }
      ],
      "source": [
        "%pwd"
      ]
    },
    {
      "cell_type": "code",
      "execution_count": null,
      "metadata": {
        "colab": {
          "base_uri": "https://localhost:8080/"
        },
        "id": "3XjIajZDUQbA",
        "outputId": "ef15a67a-8911-4b3b-aefa-d3fdb97c069c"
      },
      "outputs": [
        {
          "name": "stdout",
          "output_type": "stream",
          "text": [
            "/content/drive/MyDrive/Colab Notebooks/Segment-Anything-A-Foundation-Model-for-Image-Segmentation\n"
          ]
        }
      ],
      "source": [
        "cd /content/drive/MyDrive/Colab Notebooks/Segment-Anything-A-Foundation-Model-for-Image-Segmentation"
      ]
    },
    {
      "cell_type": "code",
      "execution_count": null,
      "metadata": {
        "id": "7N9JI3TUfTQf"
      },
      "outputs": [],
      "source": [
        "!python --version"
      ]
    },
    {
      "cell_type": "code",
      "execution_count": null,
      "metadata": {
        "id": "ZkH8-C-Sflss"
      },
      "outputs": [],
      "source": [
        "!cat /etc/issue"
      ]
    },
    {
      "cell_type": "code",
      "execution_count": null,
      "metadata": {
        "id": "_NUPtBTsfn3k"
      },
      "outputs": [],
      "source": [
        "import torch, torchvision\n",
        "\n",
        "print(torch.__version__, torch.cuda.is_available())"
      ]
    },
    {
      "cell_type": "code",
      "execution_count": null,
      "metadata": {
        "id": "jGzeE5nlfuqR"
      },
      "outputs": [],
      "source": [
        "np.__version__"
      ]
    },
    {
      "cell_type": "markdown",
      "metadata": {
        "id": "H5Od5G6Npo0N"
      },
      "source": [
        "## Step 1. Install Segment Anything"
      ]
    },
    {
      "cell_type": "code",
      "execution_count": null,
      "metadata": {
        "colab": {
          "base_uri": "https://localhost:8080/"
        },
        "execution": {
          "iopub.execute_input": "2023-04-25T13:15:53.620342Z",
          "iopub.status.busy": "2023-04-25T13:15:53.620053Z",
          "iopub.status.idle": "2023-04-25T13:16:09.616643Z",
          "shell.execute_reply": "2023-04-25T13:16:09.615312Z",
          "shell.execute_reply.started": "2023-04-25T13:15:53.620316Z"
        },
        "id": "adBqMrurpsQN",
        "outputId": "b78c6d88-a838-4c76-d262-9d7748357135",
        "trusted": true
      },
      "outputs": [
        {
          "name": "stdout",
          "output_type": "stream",
          "text": [
            "Collecting git+https://github.com/facebookresearch/segment-anything.git\n",
            "  Cloning https://github.com/facebookresearch/segment-anything.git to /tmp/pip-req-build-8xg1u__p\n",
            "  Running command git clone --filter=blob:none --quiet https://github.com/facebookresearch/segment-anything.git /tmp/pip-req-build-8xg1u__p\n",
            "  Resolved https://github.com/facebookresearch/segment-anything.git to commit 6fdee8f2727f4506cfbbe553e23b895e27956588\n",
            "  Preparing metadata (setup.py) ... \u001b[?25l\u001b[?25hdone\n",
            "Building wheels for collected packages: segment-anything\n",
            "  Building wheel for segment-anything (setup.py) ... \u001b[?25l\u001b[?25hdone\n",
            "  Created wheel for segment-anything: filename=segment_anything-1.0-py3-none-any.whl size=36586 sha256=c8eb0708357c4d8777b2fc2fa48abb108df52d48528bb2e671f0b466e73c9784\n",
            "  Stored in directory: /tmp/pip-ephem-wheel-cache-yx93w1hx/wheels/10/cf/59/9ccb2f0a1bcc81d4fbd0e501680b5d088d690c6cfbc02dc99d\n",
            "Successfully built segment-anything\n",
            "Installing collected packages: segment-anything\n",
            "Successfully installed segment-anything-1.0\n"
          ]
        }
      ],
      "source": [
        "pip install git+https://github.com/facebookresearch/segment-anything.git"
      ]
    },
    {
      "cell_type": "markdown",
      "metadata": {
        "id": "LKXnefZOpFZj"
      },
      "source": [
        "## Step 2. Download sample Images\n",
        "\n",
        "샘플 이미지가 아닌 내가 가진 이미지를 사용하면 됨"
      ]
    },
    {
      "cell_type": "code",
      "execution_count": null,
      "metadata": {
        "execution": {
          "iopub.execute_input": "2023-04-25T13:16:09.619911Z",
          "iopub.status.busy": "2023-04-25T13:16:09.618599Z",
          "iopub.status.idle": "2023-04-25T13:16:11.623074Z",
          "shell.execute_reply": "2023-04-25T13:16:11.622074Z",
          "shell.execute_reply.started": "2023-04-25T13:16:09.619851Z"
        },
        "id": "4Hw-BYgEpLsw",
        "trusted": true
      },
      "outputs": [],
      "source": [
        "# def download_file(url, save_name):\n",
        "#     url = url\n",
        "#     if not os.path.exists(save_name):\n",
        "#         file = requests.get(url)\n",
        "#         open(save_name, 'wb').write(file.content)\n",
        "\n",
        "# download_file(\n",
        "#     'https://www.dropbox.com/s/0etn81u50kfs2ah/input.zip?dl=1',\n",
        "#     'input.zip'\n",
        "# )"
      ]
    },
    {
      "cell_type": "code",
      "execution_count": null,
      "metadata": {
        "colab": {
          "base_uri": "https://localhost:8080/"
        },
        "execution": {
          "iopub.execute_input": "2023-04-25T13:16:11.626150Z",
          "iopub.status.busy": "2023-04-25T13:16:11.625753Z",
          "iopub.status.idle": "2023-04-25T13:16:11.640990Z",
          "shell.execute_reply": "2023-04-25T13:16:11.639438Z",
          "shell.execute_reply.started": "2023-04-25T13:16:11.626094Z"
        },
        "id": "k3XCFjjHiYc6",
        "outputId": "a4b17369-0729-4df0-f162-cd3e9dcce537",
        "trusted": true
      },
      "outputs": [
        {
          "name": "stdout",
          "output_type": "stream",
          "text": [
            "Extracted all\n"
          ]
        }
      ],
      "source": [
        "# # Unzip the data file\n",
        "# def unzip(zip_file=None):\n",
        "#     try:\n",
        "#         with zipfile.ZipFile(zip_file) as z:\n",
        "#             z.extractall(\"./\")\n",
        "#             print(\"Extracted all\")\n",
        "#     except:\n",
        "#         print(\"Invalid file\")\n",
        "\n",
        "# unzip('input.zip')"
      ]
    },
    {
      "cell_type": "markdown",
      "metadata": {
        "id": "aD657A0ZpSuO"
      },
      "source": [
        "## Step 3. Download the Models\n",
        "\n",
        "현재 facebook에서 제공하고 있는 pretrained_weights 는 3가지\n",
        "base 350mb, large 1.2gb, huge 2.5gb이므로 적절하게 선택하여 다운받을 것  \n",
        "크기가 크므로 매번 다운 받을 필요는 없고 추론시 모델 위치 경로 설정만 잘해주면 됨\n"
      ]
    },
    {
      "cell_type": "code",
      "execution_count": null,
      "metadata": {
        "colab": {
          "base_uri": "https://localhost:8080/"
        },
        "execution": {
          "iopub.execute_input": "2023-04-25T13:16:11.643107Z",
          "iopub.status.busy": "2023-04-25T13:16:11.642744Z",
          "iopub.status.idle": "2023-04-25T13:16:33.506715Z",
          "shell.execute_reply": "2023-04-25T13:16:33.505350Z",
          "shell.execute_reply.started": "2023-04-25T13:16:11.643071Z"
        },
        "id": "a-Q7b1jSpUuO",
        "outputId": "89c59240-bb1f-4b9e-d0d5-07f8f3547bc4",
        "trusted": true
      },
      "outputs": [
        {
          "name": "stdout",
          "output_type": "stream",
          "text": [
            "--2023-04-25 13:16:12--  https://dl.fbaipublicfiles.com/segment_anything/sam_vit_h_4b8939.pth\n",
            "Resolving dl.fbaipublicfiles.com (dl.fbaipublicfiles.com)... 52.84.162.20, 52.84.162.51, 52.84.162.119, ...\n",
            "Connecting to dl.fbaipublicfiles.com (dl.fbaipublicfiles.com)|52.84.162.20|:443... connected.\n",
            "HTTP request sent, awaiting response... 200 OK\n",
            "Length: 2564550879 (2.4G) [binary/octet-stream]\n",
            "Saving to: ‘sam_vit_h.pth’\n",
            "\n",
            "sam_vit_h.pth       100%[===================>]   2.39G   231MB/s    in 12s     \n",
            "\n",
            "2023-04-25 13:16:24 (208 MB/s) - ‘sam_vit_h.pth’ saved [2564550879/2564550879]\n",
            "\n",
            "--2023-04-25 13:16:25--  https://dl.fbaipublicfiles.com/segment_anything/sam_vit_b_01ec64.pth\n",
            "Resolving dl.fbaipublicfiles.com (dl.fbaipublicfiles.com)... 52.84.162.119, 52.84.162.51, 52.84.162.103, ...\n",
            "Connecting to dl.fbaipublicfiles.com (dl.fbaipublicfiles.com)|52.84.162.119|:443... connected.\n",
            "HTTP request sent, awaiting response... 200 OK\n",
            "Length: 375042383 (358M) [binary/octet-stream]\n",
            "Saving to: ‘sam_vit_b.pth’\n",
            "\n",
            "sam_vit_b.pth       100%[===================>] 357.67M   229MB/s    in 1.6s    \n",
            "\n",
            "2023-04-25 13:16:27 (229 MB/s) - ‘sam_vit_b.pth’ saved [375042383/375042383]\n",
            "\n",
            "--2023-04-25 13:16:28--  https://dl.fbaipublicfiles.com/segment_anything/sam_vit_l_0b3195.pth\n",
            "Resolving dl.fbaipublicfiles.com (dl.fbaipublicfiles.com)... 52.84.162.20, 52.84.162.51, 52.84.162.119, ...\n",
            "Connecting to dl.fbaipublicfiles.com (dl.fbaipublicfiles.com)|52.84.162.20|:443... connected.\n",
            "HTTP request sent, awaiting response... 200 OK\n",
            "Length: 1249524607 (1.2G) [binary/octet-stream]\n",
            "Saving to: ‘sam_vit_l.pth’\n",
            "\n",
            "sam_vit_l.pth       100%[===================>]   1.16G   245MB/s    in 5.2s    \n",
            "\n",
            "2023-04-25 13:16:33 (230 MB/s) - ‘sam_vit_l.pth’ saved [1249524607/1249524607]\n",
            "\n"
          ]
        }
      ],
      "source": [
        "# !wget https://dl.fbaipublicfiles.com/segment_anything/sam_vit_h_4b8939.pth -O sam_vit_h.pth\n",
        "\n",
        "# !wget https://dl.fbaipublicfiles.com/segment_anything/sam_vit_b_01ec64.pth -O sam_vit_b.pth\n",
        "\n",
        "# !wget https://dl.fbaipublicfiles.com/segment_anything/sam_vit_l_0b3195.pth -O sam_vit_l.pth"
      ]
    },
    {
      "cell_type": "markdown",
      "metadata": {
        "id": "jB7QNvF-p-y3"
      },
      "source": [
        "## Step 4. Inference"
      ]
    },
    {
      "cell_type": "code",
      "execution_count": null,
      "metadata": {
        "colab": {
          "base_uri": "https://localhost:8080/"
        },
        "execution": {
          "iopub.execute_input": "2023-04-25T13:16:33.510851Z",
          "iopub.status.busy": "2023-04-25T13:16:33.510445Z",
          "iopub.status.idle": "2023-04-25T13:16:33.521532Z",
          "shell.execute_reply": "2023-04-25T13:16:33.520386Z",
          "shell.execute_reply.started": "2023-04-25T13:16:33.510804Z"
        },
        "id": "ZN0xPvySpddE",
        "outputId": "74f4b11f-81e9-42af-bf07-ebdf8a0bc96d",
        "trusted": true
      },
      "outputs": [
        {
          "name": "stdout",
          "output_type": "stream",
          "text": [
            "Writing segment.py\n"
          ]
        }
      ],
      "source": [
        "%%writefile segment.py\n",
        "import cv2\n",
        "import matplotlib.pyplot as plt\n",
        "import numpy as np\n",
        "import os\n",
        "import argparse\n",
        "import torch\n",
        "\n",
        "from segment_anything import SamAutomaticMaskGenerator, sam_model_registry\n",
        "\n",
        "parser = argparse.ArgumentParser()\n",
        "parser.add_argument(\n",
        "    '--input',\n",
        "    default='input/image_4.jpg'\n",
        ")\n",
        "args = parser.parse_args()\n",
        "\n",
        "if not os.path.exists('outputs'):\n",
        "    os.makedirs('outputs')\n",
        "\n",
        "def show_anns(anns):\n",
        "    if len(anns) == 0:\n",
        "        return\n",
        "    sorted_anns = sorted(anns, key=(lambda x: x['area']), reverse=True)\n",
        "    ax = plt.gca()\n",
        "    ax.set_autoscale_on(False)\n",
        "    for ann in sorted_anns:\n",
        "        m = ann['segmentation']\n",
        "        img = np.ones((m.shape[0], m.shape[1], 3))\n",
        "        color_mask = np.random.random((1, 3)).tolist()[0]\n",
        "        for i in range(3):\n",
        "            img[:,:,i] = color_mask[i]\n",
        "        np.dstack((img, m*0.35))\n",
        "        ax.imshow(np.dstack((img, m*0.35)))\n",
        "\n",
        "device = torch.device('cuda:0' if torch.cuda.is_available else 'cpu')\n",
        "sam = sam_model_registry[\"vit_h\"](checkpoint=\"sam_vit_h.pth\")\n",
        "sam.to(device)\n",
        "mask_generator = SamAutomaticMaskGenerator(sam)\n",
        "\n",
        "image_path = args.input\n",
        "image_name = image_path.split(os.path.sep)[-1]\n",
        "image = cv2.imread(image_path)\n",
        "image = cv2.cvtColor(image, cv2.COLOR_BGR2RGB)\n",
        "masks = mask_generator.generate(image)\n",
        "plt.figure(figsize=(12, 9))\n",
        "plt.imshow(image)\n",
        "show_anns(masks)\n",
        "plt.axis('off')\n",
        "plt.savefig(os.path.join('outputs', image_name), bbox_inches='tight')"
      ]
    },
    {
      "cell_type": "markdown",
      "metadata": {
        "id": "PLD0sIIKRLp-"
      },
      "source": []
    },
    {
      "cell_type": "code",
      "execution_count": null,
      "metadata": {
        "execution": {
          "iopub.execute_input": "2023-04-25T13:18:37.065436Z",
          "iopub.status.busy": "2023-04-25T13:18:37.064856Z",
          "iopub.status.idle": "2023-04-25T13:23:27.838106Z",
          "shell.execute_reply": "2023-04-25T13:23:27.836476Z",
          "shell.execute_reply.started": "2023-04-25T13:18:37.065390Z"
        },
        "id": "b6Hik8HGp_-Q",
        "trusted": true
      },
      "outputs": [],
      "source": [
        "# !python segment.py --input input/image_1.jpg\n",
        "# !python segment.py --input input/image_2.jpg\n",
        "# !python segment.py --input input/image_3.jpg\n",
        "# !python segment.py --input input/image_4.jpg"
      ]
    },
    {
      "cell_type": "markdown",
      "metadata": {
        "id": "NOfCbem6WyDP"
      },
      "source": [
        "'input' 폴더에 있는 이미지들 한꺼번에 처리하기"
      ]
    },
    {
      "cell_type": "code",
      "execution_count": null,
      "metadata": {
        "id": "FuCmtXafYo2K"
      },
      "outputs": [],
      "source": [
        "!python segment.py --input input/B546_FMS_8_0_1_frame200.jpg"
      ]
    },
    {
      "cell_type": "code",
      "execution_count": null,
      "metadata": {
        "id": "xH0mxfZCYcJh"
      },
      "outputs": [],
      "source": [
        "import cv2\n",
        "import matplotlib.pyplot as plt\n",
        "import numpy as np\n",
        "import os\n",
        "import argparse\n",
        "import torch\n",
        "\n",
        "from segment_anything import SamAutomaticMaskGenerator, sam_model_registry"
      ]
    },
    {
      "cell_type": "code",
      "execution_count": null,
      "metadata": {
        "colab": {
          "base_uri": "https://localhost:8080/",
          "height": 35
        },
        "id": "gSNPvEa9ZKbd",
        "outputId": "81771d67-3ce4-449b-8919-99a0542036c6"
      },
      "outputs": [
        {
          "data": {
            "application/vnd.google.colaboratory.intrinsic+json": {
              "type": "string"
            },
            "text/plain": [
              "'/content/drive/MyDrive/Colab Notebooks/Segment-Anything-A-Foundation-Model-for-Image-Segmentation'"
            ]
          },
          "execution_count": 8,
          "metadata": {},
          "output_type": "execute_result"
        }
      ],
      "source": [
        "%pwd"
      ]
    },
    {
      "cell_type": "code",
      "execution_count": null,
      "metadata": {
        "id": "C1g5gWuNZD5E"
      },
      "outputs": [],
      "source": [
        "def show_anns(anns):\n",
        "    if len(anns) == 0:\n",
        "        return\n",
        "    sorted_anns = sorted(anns, key=(lambda x: x['area']), reverse=True)\n",
        "    ax = plt.gca()\n",
        "    ax.set_autoscale_on(False)\n",
        "    for ann in sorted_anns:\n",
        "        m = ann['segmentation']\n",
        "        img = np.ones((m.shape[0], m.shape[1], 3))\n",
        "        color_mask = np.random.random((1, 3)).tolist()[0]\n",
        "        for i in range(3):\n",
        "            img[:,:,i] = color_mask[i]\n",
        "        np.dstack((img, m*0.35))\n",
        "        ax.imshow(np.dstack((img, m*0.35)))\n",
        "\n",
        "device = torch.device('cuda:0' if torch.cuda.is_available else 'cpu')\n",
        "sam = sam_model_registry[\"vit_h\"](checkpoint=\"sam_vit_h_4b8939.pth\")\n",
        "sam.to(device)\n",
        "mask_generator = SamAutomaticMaskGenerator(sam)\n"
      ]
    }
  ],
  "metadata": {
    "accelerator": "GPU",
    "colab": {
      "gpuType": "V100",
      "provenance": [],
      "toc_visible": true
    },
    "kernelspec": {
      "display_name": "Python 3",
      "name": "python3"
    },
    "language_info": {
      "codemirror_mode": {
        "name": "ipython",
        "version": 3
      },
      "file_extension": ".py",
      "mimetype": "text/x-python",
      "name": "python",
      "nbconvert_exporter": "python",
      "pygments_lexer": "ipython3",
      "version": "3.7.12"
    }
  },
  "nbformat": 4,
  "nbformat_minor": 0
}
